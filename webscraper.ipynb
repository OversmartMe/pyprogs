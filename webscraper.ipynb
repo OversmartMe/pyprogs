{
 "cells": [
  {
   "cell_type": "code",
   "execution_count": 1,
   "metadata": {},
   "outputs": [
    {
     "name": "stdout",
     "output_type": "stream",
     "text": [
      "Requirement already satisfied: requests in c:\\python37\\lib\\site-packages (2.24.0)Note: you may need to restart the kernel to use updated packages.\n",
      "Requirement already satisfied: certifi>=2017.4.17 in c:\\python37\\lib\\site-packages (from requests) (2020.6.20)\n",
      "Requirement already satisfied: idna<3,>=2.5 in c:\\python37\\lib\\site-packages (from requests) (2.10)\n",
      "Requirement already satisfied: chardet<4,>=3.0.2 in c:\\python37\\lib\\site-packages (from requests) (3.0.4)\n",
      "Requirement already satisfied: urllib3!=1.25.0,!=1.25.1,<1.26,>=1.21.1 in c:\\python37\\lib\\site-packages (from requests) (1.25.9)\n",
      "\n"
     ]
    }
   ],
   "source": [
    "pip install requests  \n"
   ]
  },
  {
   "cell_type": "code",
   "execution_count": 2,
   "metadata": {},
   "outputs": [],
   "source": [
    "import requests\n",
    "from bs4 import BeautifulSoup  \n",
    "import yaml\n",
    "import os"
   ]
  },
  {
   "cell_type": "code",
   "execution_count": 3,
   "metadata": {},
   "outputs": [],
   "source": [
    "import time"
   ]
  },
  {
   "cell_type": "code",
   "execution_count": 4,
   "metadata": {},
   "outputs": [
    {
     "name": "stdout",
     "output_type": "stream",
     "text": [
      "fetching list of urls.\n",
      "found 53 urls\n"
     ]
    }
   ],
   "source": [
    "URL = 'https://www.gsb.stanford.edu/exec-ed/programs?pid=1283113613.1598246549'   \n",
    "page = requests.get(URL)\n",
    "print('fetching list of urls.')   \n",
    "soup = BeautifulSoup(page.content, 'html.parser')  \n",
    "results = soup.findAll('div', {'class':'program-title'})  \n",
    "print(\"found \"+str(len(results))+\" urls\")"
   ]
  },
  {
   "cell_type": "code",
   "execution_count": 5,
   "metadata": {},
   "outputs": [],
   "source": [
    "#print(results[0].prettify())   \n",
    "all_data = []"
   ]
  },
  {
   "cell_type": "code",
   "execution_count": null,
   "metadata": {},
   "outputs": [],
   "source": [
    "for result in results[1:10]:\n",
    "    el = result.find('a')\n",
    "    \n",
    "    URL = 'https://www.gsb.stanford.edu'+el['href'] \n",
    "    page = requests.get(URL)  \n",
    "    soup = BeautifulSoup(page.content, 'html.parser')  \n",
    "    obj = dict()\n",
    "    \n",
    "    obj['url'] = URL"
   ]
  },
  {
   "cell_type": "code",
   "execution_count": null,
   "metadata": {},
   "outputs": [],
   "source": [
    "#start_date #end_date\n",
    "try:\n",
    "        start_date = soup.findAll('h2', {'class':'instance-header'})[0]\n",
    "        datetxt = str(start_date.findAll(text=True)[2])\n",
    "        obj['date'] =  datetxt\n",
    "except IndexError:\n",
    "        start_date = soup.findAll('h2', {'class':'instance-header'})[0]\n",
    "        obj['date'] =  start_date.contents[0]+\"\""
   ]
  },
  {
   "cell_type": "code",
   "execution_count": null,
   "metadata": {},
   "outputs": [],
   "source": [
    "#field-name-title document.getElementsByClassName('field-name-title')[0]\n",
    "try:\n",
    "        faculty_name = soup.findAll('div', {'class':'field-name-title'})[0]\n",
    "        obj['faculty_name'] = str(faculty_name.find('a').contents[0])\n",
    "except IndexError:\n",
    "        obj['faculty_name'] = 'No Faculty'"
   ]
  },
  {
   "cell_type": "code",
   "execution_count": null,
   "metadata": {},
   "outputs": [],
   "source": [
    "<div class=\"isotopify-item filter--program-topic--personal-leadership filter--leadership-level--manager-of-functional-area filter--leadership-level--manager-of-other-managers filter--leadership-level--manager-of-others filter--program-location--in-person-stanford\" data-nid=\"497666\" data-daterange=\"99999999\" data-sort-program_title=\"Asian American Executive Program\" data-sort-application_state=\"3\" data-sort-start_date=\"99999999\" style=\"position: absolute; left: 0px; top: 4676px; transition-property: opacity, transform; transition-duration: 0.4s; transition-delay: 0ms; transform: translate3d(0px, -4676px, 0px);\">\n",
    "  <div class=\"program-title\" style=\"padding-right:300px\">\n",
    "  </div>-->\n",
    "<div class=\"program-instance\">\n",
    "<div class=\"program-title\">\n",
    "  <a href=\"https://www.gsb.stanford.edu/exec-ed/programs/asian-american-executive-program?pid=Stanford_ExecEd-446097542.1607399870\">Asian American Executive Program</a></div>\n",
    "              <div class=\"program-text-date\">\n",
    "   Program Dates - TBD       \n",
    "</div>\n",
    "             <div class=\"program-format\">\n",
    "   In-person | Stanford GSB      \n",
    "</div>\n",
    "      <div class=\"program-time-commitment\">\n",
    "  Full-time\n",
    "</div>\n",
    "<div class=\"program-teaser\">\n",
    "  Develop global leadership skills to advance your career as we focus on effective training for high-achieving Asian American executives.</div>\n",
    "   <div class=\"program-topic\">\n",
    "   <a href=\"https://www.gsb.stanford.edu/exec-ed/programs?program-topic=personal-leadership&amp;pid=Stanford_ExecEd-446097542.1607399870\">Personal Leadership</a>   </div>\n",
    "</div>\n",
    "<div class=\"compare-button-wrapper\"><div class=\"compare\">\n",
    "  <label id=\"497666-label\" for=\"497666--Asian American Executive Program \">Compare</label>\n",
    "  <input type=\"checkbox\" name=\"497666-item\" value=\"497666\" id=\"497666--Asian American Executive Program\">\n",
    "</div></div>\n",
    "</div>"
   ]
  },
  {
   "cell_type": "code",
   "execution_count": null,
   "metadata": {},
   "outputs": [],
   "source": [
    " #faculty_image document.getElementsByClassName('field-type-image')[0]\n",
    "try:\n",
    "        faculty_image = soup.findAll('div', {'class':'field-type-image'})[0]\n",
    "        obj['faculty_image'] = faculty_image.find('img')['src']+\"\"\n",
    "except IndexError:\n",
    "        obj['faculty_image'] = 'No Faculty'"
   ]
  },
  {
   "cell_type": "code",
   "execution_count": null,
   "metadata": {},
   "outputs": [],
   "source": [
    " #tution-amount Program fees\n",
    "try:\n",
    "        tution_amount = soup.findAll('div', {'class':'tuition-amount'})[0]\n",
    "        obj['tution_amount'] = tution_amount.contents[0]+\"\"\n",
    "except IndexError:\n",
    "        obj['tution_amount'].tution_amount = 'No Amount'\n",
    "     "
   ]
  },
  {
   "cell_type": "code",
   "execution_count": null,
   "metadata": {},
   "outputs": [],
   "source": [
    "all_data.append(obj)\n",
    "time.sleep(0.5)"
   ]
  },
  {
   "cell_type": "code",
   "execution_count": null,
   "metadata": {},
   "outputs": [],
   "source": [
    "print(all_data)\n",
    "print(yaml.safe_dump(all_data))"
   ]
  },
  {
   "cell_type": "code",
   "execution_count": null,
   "metadata": {},
   "outputs": [],
   "source": [
    "fileName = 'assignment1.yaml'\n",
    "file = os.path.expanduser(\"~/Desktop/\"+fileName)\n",
    "print(\"Your Output file is in Location:\"+file)\n",
    "with open('assignment1.yaml', 'w+') as f:\n",
    "    documents = yaml.dump(all_data, f)"
   ]
  },
  {
   "cell_type": "code",
   "execution_count": null,
   "metadata": {},
   "outputs": [],
   "source": []
  },
  {
   "cell_type": "code",
   "execution_count": null,
   "metadata": {},
   "outputs": [],
   "source": []
  }
 ],
 "metadata": {
  "kernelspec": {
   "display_name": "Python 3",
   "language": "python",
   "name": "python3"
  },
  "language_info": {
   "codemirror_mode": {
    "name": "ipython",
    "version": 3
   },
   "file_extension": ".py",
   "mimetype": "text/x-python",
   "name": "python",
   "nbconvert_exporter": "python",
   "pygments_lexer": "ipython3",
   "version": "3.7.6"
  }
 },
 "nbformat": 4,
 "nbformat_minor": 4
}
